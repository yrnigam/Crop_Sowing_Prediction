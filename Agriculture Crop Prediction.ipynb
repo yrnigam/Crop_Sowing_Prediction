{
 "cells": [
  {
   "cell_type": "markdown",
   "metadata": {},
   "source": [
    "## Importing Necessary libraries"
   ]
  },
  {
   "cell_type": "code",
   "execution_count": 51,
   "metadata": {},
   "outputs": [],
   "source": [
    "import pandas as pd\n",
    "from sklearn.neighbors import KNeighborsClassifier"
   ]
  },
  {
   "cell_type": "markdown",
   "metadata": {},
   "source": [
    "## Reading the data"
   ]
  },
  {
   "cell_type": "code",
   "execution_count": 54,
   "metadata": {},
   "outputs": [],
   "source": [
    "ad=pd.read_csv(\"./agri_ds.csv\")"
   ]
  },
  {
   "cell_type": "code",
   "execution_count": 55,
   "metadata": {},
   "outputs": [
    {
     "data": {
      "text/plain": [
       "(184, 8)"
      ]
     },
     "execution_count": 55,
     "metadata": {},
     "output_type": "execute_result"
    }
   ],
   "source": [
    "ad.shape"
   ]
  },
  {
   "cell_type": "code",
   "execution_count": 56,
   "metadata": {},
   "outputs": [
    {
     "name": "stdout",
     "output_type": "stream",
     "text": [
      "<class 'pandas.core.frame.DataFrame'>\n",
      "RangeIndex: 184 entries, 0 to 183\n",
      "Data columns (total 8 columns):\n",
      "season         184 non-null int64\n",
      "pH value       184 non-null float64\n",
      "temperature    184 non-null int64\n",
      "humidity       184 non-null int64\n",
      "rainfall       184 non-null float64\n",
      "yield          184 non-null float64\n",
      "water          184 non-null int64\n",
      "crop           184 non-null object\n",
      "dtypes: float64(3), int64(4), object(1)\n",
      "memory usage: 11.6+ KB\n"
     ]
    }
   ],
   "source": [
    "ad.info()"
   ]
  },
  {
   "cell_type": "code",
   "execution_count": 57,
   "metadata": {},
   "outputs": [
    {
     "data": {
      "text/html": [
       "<div>\n",
       "<style scoped>\n",
       "    .dataframe tbody tr th:only-of-type {\n",
       "        vertical-align: middle;\n",
       "    }\n",
       "\n",
       "    .dataframe tbody tr th {\n",
       "        vertical-align: top;\n",
       "    }\n",
       "\n",
       "    .dataframe thead th {\n",
       "        text-align: right;\n",
       "    }\n",
       "</style>\n",
       "<table border=\"1\" class=\"dataframe\">\n",
       "  <thead>\n",
       "    <tr style=\"text-align: right;\">\n",
       "      <th></th>\n",
       "      <th>season</th>\n",
       "      <th>pH value</th>\n",
       "      <th>temperature</th>\n",
       "      <th>humidity</th>\n",
       "      <th>rainfall</th>\n",
       "      <th>yield</th>\n",
       "      <th>water</th>\n",
       "    </tr>\n",
       "  </thead>\n",
       "  <tbody>\n",
       "    <tr>\n",
       "      <th>count</th>\n",
       "      <td>184.000000</td>\n",
       "      <td>184.000000</td>\n",
       "      <td>184.000000</td>\n",
       "      <td>184.000000</td>\n",
       "      <td>184.000000</td>\n",
       "      <td>184.000000</td>\n",
       "      <td>184.000000</td>\n",
       "    </tr>\n",
       "    <tr>\n",
       "      <th>mean</th>\n",
       "      <td>0.179348</td>\n",
       "      <td>6.442935</td>\n",
       "      <td>25.864130</td>\n",
       "      <td>61.342391</td>\n",
       "      <td>104.155815</td>\n",
       "      <td>567.161304</td>\n",
       "      <td>57.347826</td>\n",
       "    </tr>\n",
       "    <tr>\n",
       "      <th>std</th>\n",
       "      <td>0.450146</td>\n",
       "      <td>0.773576</td>\n",
       "      <td>4.542214</td>\n",
       "      <td>14.068418</td>\n",
       "      <td>75.719285</td>\n",
       "      <td>2814.418467</td>\n",
       "      <td>14.953798</td>\n",
       "    </tr>\n",
       "    <tr>\n",
       "      <th>min</th>\n",
       "      <td>0.000000</td>\n",
       "      <td>4.500000</td>\n",
       "      <td>13.000000</td>\n",
       "      <td>35.000000</td>\n",
       "      <td>2.870000</td>\n",
       "      <td>0.180000</td>\n",
       "      <td>25.000000</td>\n",
       "    </tr>\n",
       "    <tr>\n",
       "      <th>25%</th>\n",
       "      <td>0.000000</td>\n",
       "      <td>5.900000</td>\n",
       "      <td>23.000000</td>\n",
       "      <td>50.000000</td>\n",
       "      <td>52.750000</td>\n",
       "      <td>0.607500</td>\n",
       "      <td>50.000000</td>\n",
       "    </tr>\n",
       "    <tr>\n",
       "      <th>50%</th>\n",
       "      <td>0.000000</td>\n",
       "      <td>6.400000</td>\n",
       "      <td>26.000000</td>\n",
       "      <td>61.000000</td>\n",
       "      <td>76.000000</td>\n",
       "      <td>1.655000</td>\n",
       "      <td>60.000000</td>\n",
       "    </tr>\n",
       "    <tr>\n",
       "      <th>75%</th>\n",
       "      <td>0.000000</td>\n",
       "      <td>6.900000</td>\n",
       "      <td>29.000000</td>\n",
       "      <td>72.000000</td>\n",
       "      <td>139.250000</td>\n",
       "      <td>5.322500</td>\n",
       "      <td>70.000000</td>\n",
       "    </tr>\n",
       "    <tr>\n",
       "      <th>max</th>\n",
       "      <td>2.000000</td>\n",
       "      <td>8.500000</td>\n",
       "      <td>38.000000</td>\n",
       "      <td>94.000000</td>\n",
       "      <td>498.000000</td>\n",
       "      <td>15575.230000</td>\n",
       "      <td>85.000000</td>\n",
       "    </tr>\n",
       "  </tbody>\n",
       "</table>\n",
       "</div>"
      ],
      "text/plain": [
       "           season    pH value  temperature    humidity    rainfall  \\\n",
       "count  184.000000  184.000000   184.000000  184.000000  184.000000   \n",
       "mean     0.179348    6.442935    25.864130   61.342391  104.155815   \n",
       "std      0.450146    0.773576     4.542214   14.068418   75.719285   \n",
       "min      0.000000    4.500000    13.000000   35.000000    2.870000   \n",
       "25%      0.000000    5.900000    23.000000   50.000000   52.750000   \n",
       "50%      0.000000    6.400000    26.000000   61.000000   76.000000   \n",
       "75%      0.000000    6.900000    29.000000   72.000000  139.250000   \n",
       "max      2.000000    8.500000    38.000000   94.000000  498.000000   \n",
       "\n",
       "              yield      water   \n",
       "count    184.000000  184.000000  \n",
       "mean     567.161304   57.347826  \n",
       "std     2814.418467   14.953798  \n",
       "min        0.180000   25.000000  \n",
       "25%        0.607500   50.000000  \n",
       "50%        1.655000   60.000000  \n",
       "75%        5.322500   70.000000  \n",
       "max    15575.230000   85.000000  "
      ]
     },
     "execution_count": 57,
     "metadata": {},
     "output_type": "execute_result"
    }
   ],
   "source": [
    "ad.describe()"
   ]
  },
  {
   "cell_type": "code",
   "execution_count": 58,
   "metadata": {},
   "outputs": [
    {
     "data": {
      "text/html": [
       "<div>\n",
       "<style scoped>\n",
       "    .dataframe tbody tr th:only-of-type {\n",
       "        vertical-align: middle;\n",
       "    }\n",
       "\n",
       "    .dataframe tbody tr th {\n",
       "        vertical-align: top;\n",
       "    }\n",
       "\n",
       "    .dataframe thead th {\n",
       "        text-align: right;\n",
       "    }\n",
       "</style>\n",
       "<table border=\"1\" class=\"dataframe\">\n",
       "  <thead>\n",
       "    <tr style=\"text-align: right;\">\n",
       "      <th></th>\n",
       "      <th>season</th>\n",
       "      <th>pH value</th>\n",
       "      <th>temperature</th>\n",
       "      <th>humidity</th>\n",
       "      <th>rainfall</th>\n",
       "      <th>yield</th>\n",
       "      <th>water</th>\n",
       "      <th>crop</th>\n",
       "    </tr>\n",
       "  </thead>\n",
       "  <tbody>\n",
       "    <tr>\n",
       "      <th>0</th>\n",
       "      <td>1</td>\n",
       "      <td>5.5</td>\n",
       "      <td>26</td>\n",
       "      <td>36</td>\n",
       "      <td>143.0</td>\n",
       "      <td>3.99</td>\n",
       "      <td>80</td>\n",
       "      <td>Rice</td>\n",
       "    </tr>\n",
       "    <tr>\n",
       "      <th>1</th>\n",
       "      <td>1</td>\n",
       "      <td>5.7</td>\n",
       "      <td>29</td>\n",
       "      <td>37</td>\n",
       "      <td>99.0</td>\n",
       "      <td>4.26</td>\n",
       "      <td>80</td>\n",
       "      <td>Rice</td>\n",
       "    </tr>\n",
       "    <tr>\n",
       "      <th>2</th>\n",
       "      <td>1</td>\n",
       "      <td>5.9</td>\n",
       "      <td>22</td>\n",
       "      <td>38</td>\n",
       "      <td>110.0</td>\n",
       "      <td>4.64</td>\n",
       "      <td>80</td>\n",
       "      <td>Rice</td>\n",
       "    </tr>\n",
       "    <tr>\n",
       "      <th>3</th>\n",
       "      <td>1</td>\n",
       "      <td>6.0</td>\n",
       "      <td>27</td>\n",
       "      <td>39</td>\n",
       "      <td>107.0</td>\n",
       "      <td>3.61</td>\n",
       "      <td>80</td>\n",
       "      <td>Rice</td>\n",
       "    </tr>\n",
       "    <tr>\n",
       "      <th>4</th>\n",
       "      <td>1</td>\n",
       "      <td>6.2</td>\n",
       "      <td>20</td>\n",
       "      <td>40</td>\n",
       "      <td>137.0</td>\n",
       "      <td>4.65</td>\n",
       "      <td>80</td>\n",
       "      <td>Rice</td>\n",
       "    </tr>\n",
       "  </tbody>\n",
       "</table>\n",
       "</div>"
      ],
      "text/plain": [
       "   season  pH value  temperature  humidity  rainfall  yield  water   crop\n",
       "0       1       5.5           26        36     143.0   3.99      80  Rice\n",
       "1       1       5.7           29        37      99.0   4.26      80  Rice\n",
       "2       1       5.9           22        38     110.0   4.64      80  Rice\n",
       "3       1       6.0           27        39     107.0   3.61      80  Rice\n",
       "4       1       6.2           20        40     137.0   4.65      80  Rice"
      ]
     },
     "execution_count": 58,
     "metadata": {},
     "output_type": "execute_result"
    }
   ],
   "source": [
    "ad.head()"
   ]
  },
  {
   "cell_type": "markdown",
   "metadata": {},
   "source": [
    "## Defining dependent and independent variables of model"
   ]
  },
  {
   "cell_type": "code",
   "execution_count": 59,
   "metadata": {},
   "outputs": [],
   "source": [
    "y = ad['crop'].values   #dependent\n",
    "X = ad.drop('crop', axis=1).values   #independent"
   ]
  },
  {
   "cell_type": "markdown",
   "metadata": {},
   "source": [
    "### Creating Model using KNN and fitting the model"
   ]
  },
  {
   "cell_type": "code",
   "execution_count": 18,
   "metadata": {},
   "outputs": [],
   "source": [
    "knn = KNeighborsClassifier(n_neighbors=6)"
   ]
  },
  {
   "cell_type": "code",
   "execution_count": 19,
   "metadata": {},
   "outputs": [
    {
     "data": {
      "text/plain": [
       "KNeighborsClassifier(algorithm='auto', leaf_size=30, metric='minkowski',\n",
       "           metric_params=None, n_jobs=1, n_neighbors=6, p=2,\n",
       "           weights='uniform')"
      ]
     },
     "execution_count": 19,
     "metadata": {},
     "output_type": "execute_result"
    }
   ],
   "source": [
    "knn.fit(X,y)\n"
   ]
  },
  {
   "cell_type": "markdown",
   "metadata": {},
   "source": [
    "## Model Accuracy"
   ]
  },
  {
   "cell_type": "code",
   "execution_count": 61,
   "metadata": {
    "scrolled": true
   },
   "outputs": [
    {
     "name": "stdout",
     "output_type": "stream",
     "text": [
      "Prediction : ['Rice' 'Ragi' 'Ragi' 'Ragi' 'Rice' 'Rice' 'Rice' 'Jowar' 'Maize' 'Maize'\n",
      " 'Groundnut' 'Jowar' 'Groundnut' 'Maize' 'Jowar' 'Jowar' 'Jowar' 'Jowar'\n",
      " 'Jowar' 'Jowar' 'Jowar' 'Bajra' 'Bajra' 'Bajra' 'Bajra' 'Bajra' 'Bajra'\n",
      " 'Bajra' 'Ragi' 'Ragi' 'Greengram' 'Greengram' 'Ragi' 'Ragi' 'Ragi'\n",
      " 'Arhar' 'Arhar' 'Arhar' 'Arhar' 'Arhar' 'Arhar' 'Arhar' 'Sugarcane'\n",
      " 'Sugarcane' 'Sugarcane' 'Sugarcane' 'Sugarcane' 'Sugarcane' 'Sugarcane'\n",
      " 'Maize' 'Groundnut' 'Groundnut' 'Groundnut' 'Groundnut' 'Groundnut'\n",
      " 'Groundnut' 'Sesame' 'Sesame' 'Sesame' 'Sesame' 'Sesame' 'Sesame'\n",
      " 'Sesame' 'Cotton' 'Cotton' 'Cotton' 'Cotton' 'Cotton' 'Cotton' 'Cotton'\n",
      " 'Gram' 'Castorseed' 'Castorseed' 'Groundnut' 'Cashewnut' 'Smallmillets'\n",
      " 'Smallmillets' 'Banana' 'Banana' 'Banana' 'Banana' 'Banana' 'Banana'\n",
      " 'Banana' 'Cashewnut' 'Sugarcane' 'Cashewnut' 'Cashewnut' 'Cashewnut'\n",
      " 'Cashewnut' 'Cashewnut' 'Castorseed' 'Castorseed' 'Castorseed'\n",
      " 'Castorseed' 'Castorseed' 'Castorseed' 'Castorseed' 'Cashewnut'\n",
      " 'Coriander' 'Coriander' 'Coriander' 'Cashewnut' 'Coriander' 'Coriander'\n",
      " 'Coconut' 'Coconut' 'Coconut' 'Coconut' 'Coconut' 'Coconut' 'Coconut'\n",
      " 'Castorseed' 'Castorseed' 'Chilly' 'Chilly' 'Chilly' 'Chilly' 'Cotton'\n",
      " 'Gram' 'Cotton' 'Gram' 'Gram' 'Gram' 'Gram' 'Gram' 'Horsegram' 'Gram'\n",
      " 'Onion' 'Horsegram' 'Horsegram' 'Horsegram' 'Castorseed' 'Greengram'\n",
      " 'Greengram' 'Greengram' 'Greengram' 'Greengram' 'Greengram' 'Greengram'\n",
      " 'Jowar' 'Greengram' 'Onion' 'Onion' 'Onion' 'Onion' 'Onion' 'Onion'\n",
      " 'Onion' 'Smallmillets' 'Smallmillets' 'Smallmillets' 'Smallmillets'\n",
      " 'Horsegram' 'Smallmillets' 'Smallmillets' 'Smallmillets' 'Sweet potato'\n",
      " 'Sweet potato' 'Sweet potato' 'Sweet potato' 'Sweet potato'\n",
      " 'Sweet potato' 'Ragi' 'Tapioca' 'Tapioca' 'Tapioca' 'Tapioca' 'Tapioca'\n",
      " 'Tapioca' 'Turmeric' 'Smallmillets' 'Turmeric' 'Sweet potato' 'Cashewnut'\n",
      " 'Cashewnut' 'Turmeric' 'Sesame' 'Urad' 'Sesame' 'Sesame' 'Ragi' 'Urad'\n",
      " 'Sesame']\n"
     ]
    }
   ],
   "source": [
    "y_pred = knn.predict(X)\n",
    "print(\"Prediction : {}\".format(y_pred))"
   ]
  },
  {
   "cell_type": "code",
   "execution_count": 64,
   "metadata": {
    "scrolled": true
   },
   "outputs": [
    {
     "name": "stdout",
     "output_type": "stream",
     "text": [
      "Model Accuracy: 77.71739130434783\n"
     ]
    }
   ],
   "source": [
    "from sklearn import metrics\n",
    "print(\"Model Accuracy:\",metrics.accuracy_score(y, y_pred)*100)"
   ]
  },
  {
   "cell_type": "markdown",
   "metadata": {},
   "source": [
    "## Mannually testing the model"
   ]
  },
  {
   "cell_type": "code",
   "execution_count": 37,
   "metadata": {},
   "outputs": [],
   "source": [
    "x_new = ['1','5.9','29','38','110','4.68','80']"
   ]
  },
  {
   "cell_type": "code",
   "execution_count": 29,
   "metadata": {},
   "outputs": [],
   "source": [
    "new_pred = knn.predict([x_new])"
   ]
  },
  {
   "cell_type": "code",
   "execution_count": 30,
   "metadata": {},
   "outputs": [
    {
     "name": "stdout",
     "output_type": "stream",
     "text": [
      "Prediction : ['Ragi']\n"
     ]
    }
   ],
   "source": [
    "print(\"Prediction : {}\".format(new_pred))"
   ]
  },
  {
   "cell_type": "code",
   "execution_count": 38,
   "metadata": {},
   "outputs": [],
   "source": [
    "x_new = ['2','6.5','30','35','90','2.73','70']"
   ]
  },
  {
   "cell_type": "code",
   "execution_count": 39,
   "metadata": {},
   "outputs": [],
   "source": [
    "new_pred = knn.predict([x_new])"
   ]
  },
  {
   "cell_type": "code",
   "execution_count": 40,
   "metadata": {},
   "outputs": [
    {
     "name": "stdout",
     "output_type": "stream",
     "text": [
      "Prediction : ['Ragi']\n"
     ]
    }
   ],
   "source": [
    "print(\"Prediction : {}\".format(new_pred))"
   ]
  },
  {
   "cell_type": "code",
   "execution_count": 41,
   "metadata": {},
   "outputs": [],
   "source": [
    "x_new = ['0','7.1','30','35','80','4.73','70']"
   ]
  },
  {
   "cell_type": "code",
   "execution_count": 42,
   "metadata": {},
   "outputs": [],
   "source": [
    "new_pred = knn.predict([x_new])"
   ]
  },
  {
   "cell_type": "code",
   "execution_count": 43,
   "metadata": {},
   "outputs": [
    {
     "name": "stdout",
     "output_type": "stream",
     "text": [
      "Prediction : ['Maize']\n"
     ]
    }
   ],
   "source": [
    "print(\"Prediction : {}\".format(new_pred))"
   ]
  },
  {
   "cell_type": "code",
   "execution_count": 46,
   "metadata": {},
   "outputs": [],
   "source": [
    "x=[\"0\",\"5.0\",\"21\",\"90\",\"75.00\",'12.10','70']"
   ]
  },
  {
   "cell_type": "code",
   "execution_count": 47,
   "metadata": {},
   "outputs": [],
   "source": [
    "new_pred = knn.predict([x])"
   ]
  },
  {
   "cell_type": "code",
   "execution_count": 48,
   "metadata": {},
   "outputs": [
    {
     "name": "stdout",
     "output_type": "stream",
     "text": [
      "Prediction : ['Smallmillets']\n"
     ]
    }
   ],
   "source": [
    "print(\"Prediction : {}\".format(new_pred))"
   ]
  }
 ],
 "metadata": {
  "kernelspec": {
   "display_name": "Python 3",
   "language": "python",
   "name": "python3"
  },
  "language_info": {
   "codemirror_mode": {
    "name": "ipython",
    "version": 3
   },
   "file_extension": ".py",
   "mimetype": "text/x-python",
   "name": "python",
   "nbconvert_exporter": "python",
   "pygments_lexer": "ipython3",
   "version": "3.6.5"
  }
 },
 "nbformat": 4,
 "nbformat_minor": 2
}
